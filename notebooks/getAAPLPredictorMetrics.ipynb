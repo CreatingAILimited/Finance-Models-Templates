{
 "cells": [
  {
   "cell_type": "code",
   "execution_count": 1,
   "id": "5673400b",
   "metadata": {},
   "outputs": [],
   "source": [
    "import yfinance as yf\n",
    "ticker = yf.Ticker(\"AAPL\")"
   ]
  },
  {
   "cell_type": "code",
   "execution_count": 6,
   "id": "f9bd5098",
   "metadata": {},
   "outputs": [],
   "source": [
    "import numpy as np"
   ]
  },
  {
   "cell_type": "code",
   "execution_count": 2,
   "id": "27d9782d",
   "metadata": {},
   "outputs": [],
   "source": [
    "data = ticker.history(period=\"10y\")"
   ]
  },
  {
   "cell_type": "code",
   "execution_count": 3,
   "id": "f1be0c3d",
   "metadata": {},
   "outputs": [],
   "source": [
    "data.to_csv(\"../data/AAPL.csv\")"
   ]
  },
  {
   "cell_type": "code",
   "execution_count": 4,
   "id": "464ee185",
   "metadata": {},
   "outputs": [],
   "source": [
    "data[\"returns\"] = data[\"Close\"].pct_change()"
   ]
  },
  {
   "cell_type": "code",
   "execution_count": 7,
   "id": "81e0a891",
   "metadata": {},
   "outputs": [],
   "source": [
    "data[\"movement\"] = (data[\"returns\"] > 0).astype(np.int8)"
   ]
  },
  {
   "cell_type": "code",
   "execution_count": 8,
   "id": "93020bad",
   "metadata": {},
   "outputs": [],
   "source": [
    "data[\"vol\"] = data[\"returns\"].rolling(14).std()"
   ]
  },
  {
   "cell_type": "code",
   "execution_count": 9,
   "id": "780f260d",
   "metadata": {},
   "outputs": [],
   "source": [
    "data[\"sma_10\"] = data[\"Close\"].rolling(10).mean()\n",
    "data[\"sma_20\"] = data[\"Close\"].rolling(20).mean()"
   ]
  },
  {
   "cell_type": "code",
   "execution_count": 10,
   "id": "6f30dc1b",
   "metadata": {},
   "outputs": [],
   "source": [
    "data[\"sma_50\"] = data[\"Close\"].rolling(50).mean()"
   ]
  },
  {
   "cell_type": "code",
   "execution_count": 11,
   "id": "9af69177",
   "metadata": {},
   "outputs": [],
   "source": [
    "data[\"ema_10\"] = data[\"Close\"].ewm(span=10, adjust=False).mean()\n",
    "data[\"ema_20\"] = data[\"Close\"].ewm(span=20, adjust=False).mean()"
   ]
  },
  {
   "cell_type": "code",
   "execution_count": 12,
   "id": "bf863e6b",
   "metadata": {},
   "outputs": [],
   "source": [
    "data[\"ema_50\"] = data[\"Close\"].ewm(span=50, adjust=False).mean()"
   ]
  },
  {
   "cell_type": "code",
   "execution_count": 13,
   "id": "d56d0dd1",
   "metadata": {},
   "outputs": [],
   "source": [
    "data[\"sma_10_ratio\"] = data[\"sma_10\"] / data[\"Close\"]\n",
    "data[\"sma_20_ratio\"] = data[\"sma_20\"] / data[\"Close\"]\n",
    "data[\"sma_50_ratio\"] = data[\"sma_50\"] / data[\"Close\"]\n",
    "\n",
    "data[\"ema_10_ratio\"] = data[\"ema_10\"] / data[\"Close\"]\n",
    "data[\"ema_20_ratio\"] = data[\"ema_20\"] / data[\"Close\"]\n",
    "data[\"ema_50_ratio\"] = data[\"ema_50\"] / data[\"Close\"]"
   ]
  },
  {
   "cell_type": "code",
   "execution_count": 15,
   "id": "646a8c28",
   "metadata": {},
   "outputs": [],
   "source": [
    "delta = data['Close'].diff()\n",
    "gain = delta.where(delta > 0, 0.0)\n",
    "loss = -delta.where(delta < 0, 0.0)\n",
    "avg_gain = gain.rolling(window=14).mean()\n",
    "avg_loss = loss.rolling(window=14).mean()\n",
    "rs = avg_gain / avg_loss\n",
    "data[\"rsi\"] = 100 - (100 / (1 + rs))"
   ]
  },
  {
   "cell_type": "code",
   "execution_count": 16,
   "id": "909d0f23",
   "metadata": {},
   "outputs": [],
   "source": [
    "ema_12 = data['Close'].ewm(span=12, adjust=False).mean()\n",
    "ema_26 = data['Close'].ewm(span=26, adjust=False).mean()\n",
    "data['macd'] = ema_12 - ema_26\n",
    "data['macd_signal'] = data['macd'].ewm(span=9, adjust=False).mean()"
   ]
  },
  {
   "cell_type": "code",
   "execution_count": 17,
   "id": "8fedc3c1",
   "metadata": {},
   "outputs": [],
   "source": [
    "data[\"rsi\"] = data[\"rsi\"] / 100"
   ]
  },
  {
   "cell_type": "code",
   "execution_count": 18,
   "id": "47fe9d00",
   "metadata": {},
   "outputs": [],
   "source": [
    "data[\"volume_10_sma\"] = data['Volume'].rolling(window=10).mean()\n",
    "data['volume_ratio'] = data['Volume'] / data['volume_10_sma']"
   ]
  },
  {
   "cell_type": "code",
   "execution_count": 19,
   "id": "80949603",
   "metadata": {},
   "outputs": [],
   "source": [
    "data.dropna(axis=0, inplace=True)"
   ]
  },
  {
   "cell_type": "code",
   "execution_count": 20,
   "id": "d99bab15",
   "metadata": {},
   "outputs": [],
   "source": [
    "train = data.iloc[:1700]\n",
    "test = data.iloc[1700:]"
   ]
  },
  {
   "cell_type": "code",
   "execution_count": 21,
   "id": "ce7752aa",
   "metadata": {},
   "outputs": [],
   "source": [
    "X_train = train[[\"vol\", \"sma_20_ratio\", \"sma_50_ratio\", \"ema_20_ratio\", \"ema_50_ratio\", \"rsi\", \"macd\", \"macd_signal\", \"volume_ratio\"]]\n",
    "Y_train = train[\"movement\"]\n",
    "\n",
    "X_test = test[[\"vol\", \"sma_20_ratio\", \"sma_50_ratio\", \"ema_20_ratio\", \"ema_50_ratio\", \"rsi\", \"macd\", \"macd_signal\", \"volume_ratio\"]]\n",
    "Y_test = test[\"movement\"]"
   ]
  },
  {
   "cell_type": "code",
   "execution_count": 22,
   "id": "ca68c653",
   "metadata": {},
   "outputs": [],
   "source": [
    "import pickle"
   ]
  },
  {
   "cell_type": "code",
   "execution_count": 25,
   "id": "44275dc2",
   "metadata": {},
   "outputs": [],
   "source": [
    "decision_tree = pickle.load(open(\"../models/aapl_prediction_decision_tree.pkl\", \"rb\"))\n",
    "knn = pickle.load(open(\"../models/aapl_prediction_knn.pkl\", \"rb\"))\n",
    "nn = pickle.load(open(\"../models/aapl_prediction_nn.pkl\", \"rb\"))"
   ]
  },
  {
   "cell_type": "code",
   "execution_count": 28,
   "id": "bff4e068",
   "metadata": {},
   "outputs": [],
   "source": [
    "from sklearn.metrics import precision_score, recall_score, f1_score"
   ]
  },
  {
   "cell_type": "code",
   "execution_count": 29,
   "id": "c901a81d",
   "metadata": {},
   "outputs": [],
   "source": [
    "train_x = X_train\n",
    "train_y = Y_train\n",
    "\n",
    "test_x = X_test\n",
    "test_y = Y_test"
   ]
  },
  {
   "cell_type": "code",
   "execution_count": 30,
   "id": "28fd5d6e",
   "metadata": {},
   "outputs": [],
   "source": [
    "def get_metrics(model):\n",
    "    train_accuracy = (model.predict(train_x) == train_y).mean()\n",
    "    test_accuracy = (model.predict(test_x) == test_y).mean()\n",
    "\n",
    "    train_recall = recall_score(model.predict(train_x), train_y, average=\"weighted\")\n",
    "    test_recall = recall_score(model.predict(test_x), test_y, average=\"weighted\")\n",
    "\n",
    "    train_precision = precision_score(model.predict(train_x), train_y, average=\"weighted\")\n",
    "    test_precision = precision_score(model.predict(test_x), test_y, average=\"weighted\")\n",
    "\n",
    "    train_f1 = f1_score(model.predict(train_x), train_y, average=\"weighted\")\n",
    "    test_f1 = f1_score(model.predict(test_x), test_y, average=\"weighted\")\n",
    "\n",
    "\n",
    "    return {\n",
    "        \"train_accuracy\": train_accuracy,\n",
    "        \"test_accuracy\": test_accuracy,\n",
    "        \"train_precision\": train_precision,\n",
    "        \"test_precision\": test_precision,\n",
    "        \"train_recall\": train_recall,\n",
    "        \"test_recall\": test_recall,\n",
    "        \"train_f1\": train_f1,\n",
    "        \"test_f1\": test_f1\n",
    "    }"
   ]
  },
  {
   "cell_type": "code",
   "execution_count": null,
   "id": "731444c1",
   "metadata": {},
   "outputs": [],
   "source": [
    "train_"
   ]
  },
  {
   "cell_type": "code",
   "execution_count": 31,
   "id": "aeea5b86",
   "metadata": {},
   "outputs": [
    {
     "data": {
      "text/plain": [
       "{'train_accuracy': np.float64(0.9929411764705882),\n",
       " 'test_accuracy': np.float64(0.5861618798955613),\n",
       " 'train_precision': 0.9929544541260683,\n",
       " 'test_precision': 0.5920065140244725,\n",
       " 'train_recall': 0.9929411764705882,\n",
       " 'test_recall': 0.5861618798955613,\n",
       " 'train_f1': 0.9929422952815211,\n",
       " 'test_f1': 0.5860455038598642}"
      ]
     },
     "execution_count": 31,
     "metadata": {},
     "output_type": "execute_result"
    }
   ],
   "source": [
    "get_metrics(decision_tree)"
   ]
  },
  {
   "cell_type": "code",
   "execution_count": 32,
   "id": "c00be738",
   "metadata": {},
   "outputs": [
    {
     "data": {
      "text/plain": [
       "{'train_accuracy': np.float64(0.6976470588235294),\n",
       " 'test_accuracy': np.float64(0.5469973890339426),\n",
       " 'train_precision': 0.7007280962630023,\n",
       " 'test_precision': 0.5480857391070469,\n",
       " 'train_recall': 0.6976470588235294,\n",
       " 'test_recall': 0.5469973890339426,\n",
       " 'train_f1': 0.6985364576328101,\n",
       " 'test_f1': 0.5474665218792052}"
      ]
     },
     "execution_count": 32,
     "metadata": {},
     "output_type": "execute_result"
    }
   ],
   "source": [
    "get_metrics(knn)"
   ]
  },
  {
   "cell_type": "code",
   "execution_count": 33,
   "id": "71459b3e",
   "metadata": {},
   "outputs": [
    {
     "data": {
      "text/plain": [
       "{'train_accuracy': np.float64(0.5964705882352941),\n",
       " 'test_accuracy': np.float64(0.5861618798955613),\n",
       " 'train_precision': 0.6446348419905855,\n",
       " 'test_precision': 0.5908827896649225,\n",
       " 'train_recall': 0.5964705882352941,\n",
       " 'test_recall': 0.5861618798955613,\n",
       " 'train_f1': 0.6088975789875185,\n",
       " 'test_f1': 0.5878007197257683}"
      ]
     },
     "execution_count": 33,
     "metadata": {},
     "output_type": "execute_result"
    }
   ],
   "source": [
    "get_metrics(nn)"
   ]
  }
 ],
 "metadata": {
  "kernelspec": {
   "display_name": "Python 3",
   "language": "python",
   "name": "python3"
  },
  "language_info": {
   "codemirror_mode": {
    "name": "ipython",
    "version": 3
   },
   "file_extension": ".py",
   "mimetype": "text/x-python",
   "name": "python",
   "nbconvert_exporter": "python",
   "pygments_lexer": "ipython3",
   "version": "3.12.1"
  }
 },
 "nbformat": 4,
 "nbformat_minor": 5
}
