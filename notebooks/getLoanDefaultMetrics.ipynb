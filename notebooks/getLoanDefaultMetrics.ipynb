{
 "cells": [
  {
   "cell_type": "code",
   "execution_count": 1,
   "id": "9e3cc182",
   "metadata": {},
   "outputs": [],
   "source": [
    "import pandas as pd\n",
    "import numpy as np"
   ]
  },
  {
   "cell_type": "code",
   "execution_count": 4,
   "id": "3fead81e",
   "metadata": {},
   "outputs": [],
   "source": [
    "train = pd.read_csv(\"../data/loan_default_train.csv\")\n",
    "test = pd.read_csv(\"../data/loan_default_test.csv\")\n"
   ]
  },
  {
   "cell_type": "code",
   "execution_count": 6,
   "id": "359600bf",
   "metadata": {},
   "outputs": [],
   "source": [
    "train_x = train[[\"Age\", \"CreditScore\", \"MonthsEmployed\", \"NumCreditLines\", \"InterestRate\", \"LoanTerm\", \"DTIRatio\", \"HasMortgage\", \"HasDependents\", \"HasCoSigner\", \"LoanIncomeRatio\", \"LogLoanIncomeRatio\"]]\n",
    "train_y = train[\"Default\"]"
   ]
  },
  {
   "cell_type": "code",
   "execution_count": 8,
   "id": "5d5aad99",
   "metadata": {},
   "outputs": [],
   "source": [
    "test_x = test[[\"Age\", \"CreditScore\", \"MonthsEmployed\", \"NumCreditLines\", \"InterestRate\", \"LoanTerm\", \"DTIRatio\", \"HasMortgage\", \"HasDependents\", \"HasCoSigner\", \"LoanIncomeRatio\", \"LogLoanIncomeRatio\"]]\n",
    "test_y = test[\"Default\"]"
   ]
  },
  {
   "cell_type": "code",
   "execution_count": 10,
   "id": "5d6678d5",
   "metadata": {},
   "outputs": [],
   "source": [
    "from sklearn.metrics import precision_score, recall_score, f1_score"
   ]
  },
  {
   "cell_type": "code",
   "execution_count": 11,
   "id": "1804f578",
   "metadata": {},
   "outputs": [],
   "source": [
    "def get_metrics(model):\n",
    "    train_accuracy = (model.predict(train_x) == train_y).mean()\n",
    "    test_accuracy = (model.predict(test_x) == test_y).mean()\n",
    "\n",
    "    train_recall = recall_score(model.predict(train_x), train_y, average=\"weighted\")\n",
    "    test_recall = recall_score(model.predict(test_x), test_y, average=\"weighted\")\n",
    "\n",
    "    train_precision = precision_score(model.predict(train_x), train_y, average=\"weighted\")\n",
    "    test_precision = precision_score(model.predict(test_x), test_y, average=\"weighted\")\n",
    "\n",
    "    train_f1 = f1_score(model.predict(train_x), train_y, average=\"weighted\")\n",
    "    test_f1 = f1_score(model.predict(test_x), test_y, average=\"weighted\")\n",
    "\n",
    "\n",
    "    return {\n",
    "        \"train_accuracy\": train_accuracy,\n",
    "        \"test_accuracy\": test_accuracy,\n",
    "        \"train_precision\": train_precision,\n",
    "        \"test_precision\": test_precision,\n",
    "        \"train_recall\": train_recall,\n",
    "        \"test_recall\": test_recall,\n",
    "        \"train_f1\": train_f1,\n",
    "        \"test_f1\": test_f1\n",
    "    }"
   ]
  },
  {
   "cell_type": "code",
   "execution_count": 12,
   "id": "899b163e",
   "metadata": {},
   "outputs": [],
   "source": [
    "import pickle"
   ]
  },
  {
   "cell_type": "code",
   "execution_count": 14,
   "id": "2564b29a",
   "metadata": {},
   "outputs": [],
   "source": [
    "model = pickle.load(open(\"../models/loan_default_model.pkl\", \"rb\"))"
   ]
  },
  {
   "cell_type": "code",
   "execution_count": 15,
   "id": "68171b32",
   "metadata": {},
   "outputs": [
    {
     "data": {
      "text/plain": [
       "{'train_accuracy': np.float64(0.814901414150498),\n",
       " 'test_accuracy': np.float64(0.8089296553584676),\n",
       " 'train_precision': 0.8341846349814073,\n",
       " 'test_precision': 0.8301939279578786,\n",
       " 'train_recall': 0.814901414150498,\n",
       " 'test_recall': 0.8089296553584676,\n",
       " 'train_f1': 0.816667991890397,\n",
       " 'test_f1': 0.8110969801786381}"
      ]
     },
     "execution_count": 15,
     "metadata": {},
     "output_type": "execute_result"
    }
   ],
   "source": [
    "get_metrics(model)"
   ]
  }
 ],
 "metadata": {
  "kernelspec": {
   "display_name": "Python 3",
   "language": "python",
   "name": "python3"
  },
  "language_info": {
   "codemirror_mode": {
    "name": "ipython",
    "version": 3
   },
   "file_extension": ".py",
   "mimetype": "text/x-python",
   "name": "python",
   "nbconvert_exporter": "python",
   "pygments_lexer": "ipython3",
   "version": "3.12.1"
  }
 },
 "nbformat": 4,
 "nbformat_minor": 5
}
