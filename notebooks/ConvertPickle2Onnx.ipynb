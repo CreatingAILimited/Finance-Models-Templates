{
 "cells": [
  {
   "cell_type": "code",
   "execution_count": 5,
   "id": "e0905685",
   "metadata": {},
   "outputs": [],
   "source": [
    "import skl2onnx\n",
    "from skl2onnx import convert_sklearn\n",
    "from skl2onnx.common.data_types import FloatTensorType\n",
    "import numpy as np\n",
    "import pickle"
   ]
  },
  {
   "cell_type": "markdown",
   "id": "c44eaeb2",
   "metadata": {},
   "source": [
    "## AAPL movement predictor"
   ]
  },
  {
   "cell_type": "code",
   "execution_count": 7,
   "id": "84ed0139",
   "metadata": {},
   "outputs": [],
   "source": [
    "decision_tree = pickle.load(open(\"../models/aapl_prediction_decision_tree.pkl\", \"rb\"))\n",
    "knn = pickle.load(open(\"../models/aapl_prediction_knn.pkl\", \"rb\"))\n",
    "nn = pickle.load(open(\"../models/aapl_prediction_nn.pkl\", \"rb\"))\n",
    "rf = pickle.load(open(\"../models/aapl_prediction_random_forrest.pkl\", \"rb\"))\n",
    "svc = pickle.load(open(\"../models/aapl_prediction_svc.pkl\", \"rb\"))\n"
   ]
  },
  {
   "cell_type": "code",
   "execution_count": null,
   "id": "f999e6d2",
   "metadata": {},
   "outputs": [],
   "source": [
    "\n",
    "initial_type = [('input', FloatTensorType([None, 9]))]\n",
    "decision_tree_onnx = convert_sklearn(decision_tree, initial_types=initial_type)\n",
    "knn_onnx = convert_sklearn(knn, initial_types=initial_type)\n",
    "nn_onnx = convert_sklearn(nn, initial_types=initial_type)\n",
    "rf_onnx = convert_sklearn(rf, initial_types=initial_type)\n",
    "svc_onnx = convert_sklearn(svc, initial_types=initial_type)\n",
    "\n",
    "\n",
    "with open(\"../models/aapl_prediction_decision_tree.onnx\", \"wb\") as f:\n",
    "    f.write(decision_tree_onnx.SerializeToString())\n",
    "\n",
    "with open(\"../models/aapl_prediction_knn.onnx\", \"wb\") as f:\n",
    "    f.write(knn_onnx.SerializeToString())\n",
    "\n",
    "\n",
    "with open(\"../models/aapl_prediction_nn.onnx\", \"wb\") as f:\n",
    "    f.write(nn_onnx.SerializeToString())\n",
    "\n",
    "\n",
    "with open(\"../models/aapl_prediction_rf.onnx\", \"wb\") as f:\n",
    "    f.write(rf_onnx.SerializeToString())\n",
    "            \n",
    "with open(\"../models/aapl_prediction_svc.onnx\", \"wb\") as f:\n",
    "    f.write(svc_onnx.SerializeToString())"
   ]
  },
  {
   "cell_type": "markdown",
   "id": "416787e1",
   "metadata": {},
   "source": [
    "## customer segmentation model"
   ]
  },
  {
   "cell_type": "code",
   "execution_count": 9,
   "id": "6e556c4a",
   "metadata": {},
   "outputs": [],
   "source": [
    "decision_tree = pickle.load(open(\"../models/customer_segmentation_decision_tree.pkl\", \"rb\"))\n",
    "knn = pickle.load(open(\"../models/customer_segmentation_k_neighbours.pkl\", \"rb\"))\n",
    "svc = pickle.load(open(\"../models/customer_segmentation_svc.pkl\", \"rb\"))"
   ]
  },
  {
   "cell_type": "code",
   "execution_count": 10,
   "id": "7d55bd78",
   "metadata": {},
   "outputs": [],
   "source": [
    "\n",
    "initial_type = [('input', FloatTensorType([None, 5]))]\n",
    "decision_tree_onnx = convert_sklearn(decision_tree, initial_types=initial_type)\n",
    "knn_onnx = convert_sklearn(knn, initial_types=initial_type)\n",
    "svc_onnx = convert_sklearn(svc, initial_types=initial_type)\n",
    "\n",
    "\n",
    "with open(\"../models/customer_segmentation_decision_tree.onnx\", \"wb\") as f:\n",
    "    f.write(decision_tree_onnx.SerializeToString())\n",
    "\n",
    "with open(\"../models/customer_segmentation_knn.onnx\", \"wb\") as f:\n",
    "    f.write(knn_onnx.SerializeToString())\n",
    "            \n",
    "with open(\"../models/customer_segmentation_svc.onnx\", \"wb\") as f:\n",
    "    f.write(svc_onnx.SerializeToString())"
   ]
  },
  {
   "cell_type": "markdown",
   "id": "066c6c9b",
   "metadata": {},
   "source": [
    "## loan default model"
   ]
  },
  {
   "cell_type": "code",
   "execution_count": 12,
   "id": "6b49bad6",
   "metadata": {},
   "outputs": [],
   "source": [
    "model = pickle.load(open(\"../models/loan_default_model.pkl\", \"rb\"))"
   ]
  },
  {
   "cell_type": "code",
   "execution_count": 13,
   "id": "8081894d",
   "metadata": {},
   "outputs": [],
   "source": [
    "initial_type = [('input', FloatTensorType([None, 17]))]"
   ]
  },
  {
   "cell_type": "code",
   "execution_count": 14,
   "id": "2ba35e25",
   "metadata": {},
   "outputs": [],
   "source": [
    "model_onnx = convert_sklearn(model, initial_types=initial_type)"
   ]
  },
  {
   "cell_type": "code",
   "execution_count": 15,
   "id": "04d8a20f",
   "metadata": {},
   "outputs": [],
   "source": [
    "with open(\"../models/loan_default_model.onnx\", \"wb\") as f:\n",
    "    f.write(model_onnx.SerializeToString())"
   ]
  },
  {
   "cell_type": "markdown",
   "id": "c47923ae",
   "metadata": {},
   "source": [
    "## macro economic country predictor"
   ]
  },
  {
   "cell_type": "code",
   "execution_count": 16,
   "id": "8f7df6ce",
   "metadata": {},
   "outputs": [],
   "source": [
    "decision_tree = pickle.load(open(\"../models/macro_economic_country_predictor_decision_tree.pkl\", \"rb\"))\n",
    "mlp = pickle.load(open(\"../models/macro_economic_country_predictor_mlp.pkl\", \"rb\"))\n",
    "svc = pickle.load(open(\"../models/macro_economic_country_predictor_svc.pkl\", \"rb\"))"
   ]
  },
  {
   "cell_type": "code",
   "execution_count": 17,
   "id": "1e6ef941",
   "metadata": {},
   "outputs": [],
   "source": [
    "initial_type = [('input', FloatTensorType([None, 23]))]"
   ]
  },
  {
   "cell_type": "code",
   "execution_count": 18,
   "id": "22d2bcbf",
   "metadata": {},
   "outputs": [],
   "source": [
    "decision_tree_onnx = convert_sklearn(decision_tree, initial_types=initial_type)\n",
    "mlp_onnx = convert_sklearn(mlp, initial_types=initial_type)\n",
    "svc_onnx = convert_sklearn(svc, initial_types=initial_type)"
   ]
  }
 ],
 "metadata": {
  "kernelspec": {
   "display_name": "Python 3",
   "language": "python",
   "name": "python3"
  },
  "language_info": {
   "codemirror_mode": {
    "name": "ipython",
    "version": 3
   },
   "file_extension": ".py",
   "mimetype": "text/x-python",
   "name": "python",
   "nbconvert_exporter": "python",
   "pygments_lexer": "ipython3",
   "version": "3.12.1"
  }
 },
 "nbformat": 4,
 "nbformat_minor": 5
}
